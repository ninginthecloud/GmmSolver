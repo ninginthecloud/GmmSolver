{
 "cells": [
  {
   "cell_type": "code",
   "execution_count": 1,
   "metadata": {
    "collapsed": true
   },
   "outputs": [],
   "source": [
    "#! /usr/bin/env python\n",
    "'''\n",
    "    code for gaussian mixture solver\n",
    "    based on Kalai STOC'10 paper\n",
    "    Efficiently learning mixtures of two gaussians\n",
    "'''\n",
    "from __future__ import division\n",
    "import numpy as np\n",
    "import scipy as sp\n",
    "import matplotlib.pyplot as plt\n",
    "from scipy.stats import norm\n",
    "%matplotlib inline "
   ]
  },
  {
   "cell_type": "code",
   "execution_count": 148,
   "metadata": {
    "collapsed": false
   },
   "outputs": [],
   "source": [
    "class TwoGaussian(object):\n",
    "    def __init__(self, sample):\n",
    "        self.M1 = np.mean(sample)\n",
    "        self.M2 = np.mean(sample**2)\n",
    "        self.M3 = np.mean(sample**3)\n",
    "        self.M4 = np.mean(sample**4)\n",
    "        self.M5 = np.mean(sample**5)\n",
    "        self.M6 = np.mean(sample**6)\n",
    "        self.x3 = self.M3\n",
    "        self.x4 = self.M4 - 3* self.M2**2\n",
    "        self.x5 = self.M5 - 10 * self.M3 * self.M2\n",
    "        self.x6 = self.M6 - 15 * self.M4 * self.M2 + 30 * self.M2**3\n",
    "        #self.alpha\n",
    "        #self.gamma\n",
    "        #self.beta\n",
    "        \n",
    "    def recoverAlphaFromMoment(self, eps):\n",
    "        X3, X4, X5, X6 = [self.x3, self.x4, self.x5, self.x6]\n",
    "        coeff = [2, 0, X4, -X3**2]\n",
    "        ymax = np.max(np.roots(coeff))\n",
    "        kai = 1 + np.sqrt(np.abs(X4))/ymax\n",
    "        #remove 18th degree polynomial for reference in later session\n",
    "        \n",
    "        #only keep cofficients of the first derivative of r(y)\n",
    "        coeff= self.rprime(X3, X4, X5, X6)\n",
    "        R = np.roots(coeff)\n",
    "        candidates = np.append(R, (1+eps/kai)*ymax)\n",
    "        alphaOPT = float('-inf')\n",
    "        thred1 = (1+eps/kai)*ymax\n",
    "        thred2 = (eps**2)*(kai**10)\n",
    "        small_candidates = candidates[candidates <= thred1]\n",
    "        res = [x for x in small_candidates if self.ry(x) <= thred2*x**18]\n",
    "        assert len(res) > 0, 'no valid solution for alpha'\n",
    "        return np.max(res)\n",
    "    \n",
    "    def recoverFromMoments(self, eps):\n",
    "        X3, X4, X5, X6 = [self.x3, self.x4, self.x5, self.x6]\n",
    "        mu = self.M1\n",
    "        sigma2 = self.M2 - self.M1**2\n",
    "        alpha = self.recoverAlphaFromMoment(eps)\n",
    "        gamma = self.gammafunc(alpha)\n",
    "        beta = self.betafunc(alpha, gamma)\n",
    "        mu1, mu2 = self.mufunc(alpha, beta)\n",
    "        w1, w2 = self.weightfunc(mu1, mu2)\n",
    "        sigma2_1 = sigma2 - (w1*mu1**2 + w2*mu2**2 - mu1*gamma)\n",
    "        sigma2_2 = sigma2_1 + (mu2 - mu1)*gamma\n",
    "        res = ([w1,w2], [ mu1+mu,mu2+mu], [np.sqrt(sigma2_1), np.sqrt(sigma2_2)])\n",
    "        return res\n",
    "    \n",
    "    def ry(self, y):\n",
    "        X3, X4, X5, X6 = [self.x3, self.x4, self.x5, self.x6]\n",
    "        ry = 80*X3**12 - 640*X3**10*X4*y + 1984*X3**10*y**3 + \\\n",
    "        464*X3**9*X5*y**2 + 1720*X3**8*X4**2*y**2 - 10880*X3**8*X4*y**4 - \\\n",
    "        32*X3**8*X6*y**3 + 11872*X3**8*y**6 - 2488*X3**7*X4*X5*y**3 + \\\n",
    "        6096*X3**7*X5*y**5 - 1640*X3**6*X4**3*y**3 + 17920*X3**6*X4**2*y**5 + \\\n",
    "        152*X3**6*X4*X6*y**4 - 33888*X3**6*X4*y**7 + 772*X3**6*X5**2*y**4 - \\\n",
    "        432*X3**6*X6*y**6 - 6144*X3**6*y**9 + 3796*X3**5*X4**2*X5*y**4 - \\\n",
    "        17712*X3**5*X4*X5*y**6 - 80*X3**5*X5*X6*y**5 + 3088*X3**5*X5*y**8 + \\\n",
    "        130*X3**4*X4**4*y**4 - 9320*X3**4*X4**3*y**6 - 200*X3**4*X4**2*X6*y**5 + \\\n",
    "        31184*X3**4*X4**2*y**8 - 2252*X3**4*X4*X5**2*y**5 + 848*X3**4*X4*X6*y**7 + \\\n",
    "        16480*X3**4*X4*y**10 + 2264*X3**4*X5**2*y**7 + 16*X3**4*X6**2*y**6 + 512*X3**4*X6*y**9 + \\\n",
    "        3872*X3**4*y**12 - 1322*X3**3*X4**3*X5*y**5 + 14500*X3**3*X4**2*X5*y**7 + \\\n",
    "        116*X3**3*X4*X5*X6*y**6 - 3544*X3**3*X4*X5*y**9 + 288*X3**3*X5**3*y**6 + \\\n",
    "        56*X3**3*X5*X6*y**8 + 112*X3**3*X5*y**11 + 300*X3**2*X4**5*y**5 - 400*X3**2*X4**4*y**7 + \\\n",
    "        102*X3**2*X4**3*X6*y**6 - 10144*X3**2*X4**3*y**9 + 1597*X3**2*X4**2*X5**2*y**6 - \\\n",
    "        556*X3**2*X4**2*X6*y**8 - 14080*X3**2*X4**2*y**11 - 3476*X3**2*X4*X5**2*y**8 - \\\n",
    "        24*X3**2*X4*X6**2*y**7 - 728*X3**2*X4*X6*y**10 - 6208*X3**2*X4*y**13 + 436*X3**2*X5**2*y**10 - \\\n",
    "        16*X3**2*X6**2*y**9 - 208*X3**2*X6*y**12 - 768*X3**2*y**15 - 606*X3*X4**4*X5*y**6 - \\\n",
    "        2024*X3*X4**3*X5*y**8 - 42*X3*X4**2*X5*X6*y**7 - 1056*X3*X4**2*X5*y**10 - \\\n",
    "        432*X3*X4*X5**3*y**7 - 40*X3*X4*X5*X6*y**9 + 544*X3*X4*X5*y**12 + 288*X3*X5**3*y**9 - \\\n",
    "        8*X3*X5*X6*y**11 + 352*X3*X5*y**14 + 90*X4**6*y**6 + 408*X4**5*y**8 - 18*X4**4*X6*y**7 + \\\n",
    "        1720*X4**4*y**10 + 108*X4**3*X5**2*y**7 + 120*X4**3*X6*y**9 + 3008*X4**3*y**12 + \\\n",
    "        360*X4**2*X5**2*y**9 + 9*X4**2*X6**2*y**8 + 256*X4**2*X6*y**11 + 2400*X4**2*y**14 + \\\n",
    "        336*X4*X5**2*y**11 + 12*X4*X6**2*y**10 + 160*X4*X6*y**13 + 896*X4*y**16 + 36*X5**4*y**8 + \\\n",
    "        96*X5**2*y**13 + 4*X6**2*y**12 + 32*X6*y**15 + 128*y**18\n",
    "        return ry\n",
    "    \n",
    "    def rprime(self, X3, X4, X5, X6):\n",
    "        res = [2304,\\\n",
    " 0,\\\n",
    " 14336*X4,\\\n",
    " -11520*X3**2 + 480*X6,\\\n",
    " 4928*X3*X5 + 33600*X4**2,\\\n",
    " -80704*X3**2*X4 + 2080*X4*X6 + 1248*X5**2,\\\n",
    " 46464*X3**4 - 2496*X3**2*X6 + 6528*X3*X4*X5 + 36096*X4**3 + 48*X6**2,\\\n",
    " 1232*X3**3*X5 - 154880*X3**2*X4**2 - 88*X3*X5*X6 + 2816*X4**2*X6 + 3696*X4*X5**2,\\\n",
    " 164800*X3**4*X4 - 7280*X3**2*X4*X6 + 4360*X3**2*X5**2 - 10560*X3*X4**2*X5 + 17200*X4**4 + 120*X4*X6**2,\\\n",
    " -55296*X3**6 + 4608*X3**4*X6 - 31896*X3**3*X4*X5 - 91296*X3**2*X4**3 - 144*X3**2*X6**2 - 360*X3*X4*X5*X6 + 2592*X3*X5**3 + 1080*X4**3*X6 + 3240*X4**2*X5**2,\\\n",
    " 24704*X3**5*X5 + 249472*X3**4*X4**2 + 448*X3**3*X5*X6 - 4448*X3**2*X4**2*X6 - 27808*X3**2*X4*X5**2 - 16192*X3*X4**3*X5 + 3264*X4**5 + 72*X4**2*X6**2 + 288*X5**4,\\\n",
    " -237216*X3**6*X4 + 5936*X3**4*X4*X6 + 15848*X3**4*X5**2 + 101500*X3**3*X4**2*X5 - 2800*X3**2*X4**4 - 168*X3**2*X4*X6**2 - 294*X3*X4**2*X5*X6 - 3024*X3*X4*X5**3 - 126*X4**4*X6 + 756*X4**3*X5**2,\\\n",
    " 71232*X3**8 - 2592*X3**6*X6 - 106272*X3**5*X4*X5 - 55920*X3**4*X4**3 + 96*X3**4*X6**2 + 696*X3**3*X4*X5*X6 + 1728*X3**3*X5**3 + 612*X3**2*X4**3*X6 + 9582*X3**2*X4**2*X5**2 - 3636*X3*X4**4*X5 + 540*X4**6,\\\n",
    " 30480*X3**7*X5 + 89600*X3**6*X4**2 - 400*X3**5*X5*X6 - 1000*X3**4*X4**2*X6 - 11260*X3**4*X4*X5**2 - 6610*X3**3*X4**3*X5 + 1500*X3**2*X4**5,\\\n",
    " -43520*X3**8*X4 + 608*X3**6*X4*X6 + 3088*X3**6*X5**2 + 15184*X3**5*X4**2*X5 + 520*X3**4*X4**4,\\\n",
    " 5952*X3**10 - 96*X3**8*X6 - 7464*X3**7*X4*X5 - 4920*X3**6*X4**3,\\\n",
    " 928*X3**9*X5 + 3440*X3**8*X4**2,\\\n",
    " -640*X3**10*X4]\n",
    "        return res\n",
    "    \n",
    "    def gammafunc(self, a):\n",
    "        assert a!= 0,'alpha can not be zero!'\n",
    "        X3, X4, X5, X6 = [self.x3, self.x4, self.x5, self.x6]\n",
    "        numerator = a**2 * X5 + 2*X3**3 + 2*a**3*X3 - 3*X3*X4*a\n",
    "        denominator = 4*X3**2 - 2 * a**3 - 3*X4*a\n",
    "        return numerator/(denominator*a)\n",
    "    def betafunc(self, a, g):\n",
    "        X3 = self.x3\n",
    "        return (X3 - 3*a*g)/a\n",
    "    def mufunc(self, a, b):\n",
    "        res = [(-b - np.sqrt(b**2 + 4*a))*0.5, (-b + np.sqrt(b**2 + 4*a))*0.5]\n",
    "        return res\n",
    "    def weightfunc(self, m1, m2):\n",
    "        assert m2 != m1\n",
    "        res = [m2/(m2 - m1), -m1/(m2-m1)]\n",
    "        return res"
   ]
  },
  {
   "cell_type": "code",
   "execution_count": 149,
   "metadata": {
    "collapsed": false
   },
   "outputs": [],
   "source": [
    "class Test(object):\n",
    "    def __init__(self, param, n_samples, seed = 0):\n",
    "            self.w1 = param[0]\n",
    "            self.w2 = param[1]\n",
    "            self.mu1 = param[2]\n",
    "            self.mu2 = param[3]\n",
    "            self.sigma1 = param[4]\n",
    "            self.sigma2 = param[5]\n",
    "            self.n_samples = n_samples\n",
    "            self.sample2d, self.sample1d  = self.sample()\n",
    "            \n",
    "    def sample(self, seed = 0):\n",
    "        gmix = mixture.GaussianMixture(n_components=2, covariance_type='full')\n",
    "        gmix.fit(np.random.rand(2,1))  # Now it thinks it is trained\n",
    "        gmix.weights_ = np.array([self.w1, self.w2]) # mixture weights (n_components,) \n",
    "        gmix.means_ = np.array([[self.mu1], [self.mu2]])         # mixture means (n_components, 2) \n",
    "        gmix.covariances_ = np.array([[[self.sigma1]], [[self.sigma2]]]) # mixture cov (n_components, 2, 2)\n",
    "        sample, _ = gmix.sample(self.n_samples)\n",
    "        return (sample, sample.flatten())\n",
    "\n",
    "    def unitest(self, eps):\n",
    "        # fit a Gaussian Mixture Model with two components\n",
    "        start = time.time()\n",
    "        clf = mixture.GaussianMixture(n_components=2, covariance_type='full')\n",
    "        clf.fit(self.sample2d)\n",
    "        end = time.time()\n",
    "        t1 = (end - start)\n",
    "\n",
    "        start = time.time()\n",
    "        test = TwoGaussian(np.append(sample1, sample2))\n",
    "        res = test.recoverFromMoments(0.1)\n",
    "        end = time.time()\n",
    "        t2 = (end - start)\n",
    "        print \"Skelearn GMM cost time is: {} sec. \\n\".format(t1)\n",
    "        print \"Moment method GMM cost time is: {} sec. \\n\".format(t2)\n",
    "        return (clf.weights_,clf.means_,clf.covariances_, res)"
   ]
  },
  {
   "cell_type": "code",
   "execution_count": 154,
   "metadata": {
    "collapsed": false
   },
   "outputs": [
    {
     "name": "stdout",
     "output_type": "stream",
     "text": [
      "Skelearn GMM cost time is: 0.0057590007782 sec. \n",
      "\n",
      "Moment method GMM cost time is: 0.00357580184937 sec. \n",
      "\n"
     ]
    },
    {
     "data": {
      "text/plain": [
       "(array([ 0.79623622,  0.20376378]), array([[ 2.07205131],\n",
       "        [-1.9301331 ]]), array([[[ 1.01148577]],\n",
       " \n",
       "        [[ 1.06183443]]]), ([(0.51659368748306689+0j),\n",
       "   (0.48340631251693317+0j)],\n",
       "  [(-2.0850879016166619+0j), (2.1229860462160826+0j)],\n",
       "  [(0.91358258639287959+0j), (0.83151199944098786+0j)]))"
      ]
     },
     "execution_count": 154,
     "metadata": {},
     "output_type": "execute_result"
    }
   ],
   "source": [
    "unitest = Test(param = [0.2, 0.8, -2, 2, 1, 1],n_samples=1000)\n",
    "unitest.unitest(0.1)"
   ]
  },
  {
   "cell_type": "code",
   "execution_count": 59,
   "metadata": {
    "collapsed": false
   },
   "outputs": [
    {
     "data": {
      "image/png": "[encoded data removed]",
      "text/plain": [
       "<matplotlib.figure.Figure at 0x1112d5d90>"
      ]
     },
     "metadata": {},
     "output_type": "display_data"
    }
   ],
   "source": [
    "x = np.random.normal(-2, 1, 100)\n",
    "y = np.append(x, np.random.normal(2, 1, 100))\n",
    "n, bins, patches =plt.hist(y, 50, normed=1, facecolor='green', alpha=0.75)\n",
    "#pred = res.x[0]*norm.pdf(bins, loc=res.x[1], scale=res.x[2])\\\n",
    "#+(1-res.x[0])*norm.pdf(bins, loc=res.x[3], scale=np.abs(res.x[4]))\n",
    "#l = plt.plot(bins, pred, 'r--', linewidth=1)\n",
    "#plt.show()"
   ]
  },
  {
   "cell_type": "code",
   "execution_count": null,
   "metadata": {
    "collapsed": true
   },
   "outputs": [],
   "source": [
    "y = res.x[0]*norm.pdf(bins, loc=res.x[1], scale=res.x[2])\\\n",
    "+(1-res.x[0])*norm.pdf(bins, loc=res.x[3], scale=np.abs(res.x[4]))\n",
    "l = plt.plot(bins, y, 'r--', linewidth=1)\n",
    "plt.show()"
   ]
  }
 ],
 "metadata": {
  "kernelspec": {
   "display_name": "Python 2",
   "language": "python",
   "name": "python2"
  },
  "language_info": {
   "codemirror_mode": {
    "name": "ipython",
    "version": 2
   },
   "file_extension": ".py",
   "mimetype": "text/x-python",
   "name": "python",
   "nbconvert_exporter": "python",
   "pygments_lexer": "ipython2",
   "version": "2.7.12"
  }
 },
 "nbformat": 4,
 "nbformat_minor": 0
}
