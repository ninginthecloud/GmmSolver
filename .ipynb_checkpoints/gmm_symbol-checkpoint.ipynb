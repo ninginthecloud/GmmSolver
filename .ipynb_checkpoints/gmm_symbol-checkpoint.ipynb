{
 "cells": [
  {
   "cell_type": "code",
   "execution_count": null,
   "metadata": {
    "collapsed": true
   },
   "outputs": [],
   "source": [
    "#! /usr/bin/python\n",
    "# Setup variables and expressions\n",
    "from sympy import *\n",
    "alpha = Symbol(r'\\alpha')\n",
    "beta = Symbol(r'\\beta')\n",
    "gamma = Symbol(r'\\gamma')\n",
    "X3 = Symbol('X3')\n",
    "X4 = Symbol('X4')\n",
    "X5 = Symbol('X5')\n",
    "X6 = Symbol('X6')\n",
    "y = Symbol('y')\n",
    "#X3 = alpha * beta + 3 * alpha * gamma\n",
    "#X4 = -2*alpha**2 + alpha*beta**2 + 6*alpha*beta*gamma + 3*alpha*gamma**2\n",
    "#X5 = alpha * (beta**3 - 8*alpha*beta + 10*beta**2*gamma + 15*gamma**2*beta\n",
    "#- 20*alpha*gamma)\n",
    "#X6 = alpha*(16*alpha**2 - 12*alpha*beta**2 + beta**4 + 45*beta**2*gamma**2 +\n",
    "#15*beta*gamma**3 + 15*gamma*(-4*alpha*beta + beta**3))\n",
    "p5 = (6*(2*X3*y**3 + X5*y**2 - 3*X3*X4*y + 2*X3**3)**2 +\n",
    "(2*y**3+3*X4*y - 4*X3**2)**2*(2*y**3 + X4*y - X3**2))**2\n",
    "p6 = ((4*X3**2 - 3*X4*y - 2*y**3) *\n",
    "(4*X3**4 - 4*X3**2*X4*y - 8*X3**2*y**3 - X4**2*y**2 +\n",
    "8*X4*y**4 + X6*y**3 + 4*y**6) -\n",
    "(10*X3**3 - 7*X3*X4*y - 2*X3*y**3) *\n",
    "(2*X3**3 - 3*X3*X4*y + 2*X3*y**3 + X5*y**2))**2\n",
    "r = p5+p6\n",
    "rprime = diff(r, y)\n",
    "#rprimePoly = Poly(rprime, y)\n",
    "#rprimePoly.all_coeffs()\n",
    "r.expand()"
   ]
  }
 ],
 "metadata": {
  "kernelspec": {
   "display_name": "Python 2",
   "language": "python",
   "name": "python2"
  },
  "language_info": {
   "codemirror_mode": {
    "name": "ipython",
    "version": 2
   },
   "file_extension": ".py",
   "mimetype": "text/x-python",
   "name": "python",
   "nbconvert_exporter": "python",
   "pygments_lexer": "ipython2",
   "version": "2.7.12"
  }
 },
 "nbformat": 4,
 "nbformat_minor": 0
}
