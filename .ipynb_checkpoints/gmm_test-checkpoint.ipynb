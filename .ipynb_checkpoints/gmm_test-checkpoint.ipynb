{
 "cells": [
  {
   "cell_type": "code",
   "execution_count": 31,
   "metadata": {
    "collapsed": true
   },
   "outputs": [],
   "source": [
    "#! /usr/bin/env python\n",
    "'''\n",
    "    code for gaussian mixture solver\n",
    "    based on Kalai STOC'10 paper\n",
    "    Efficiently learning mixtures of two gaussians\n",
    "'''\n",
    "from __future__ import division\n",
    "import numpy as np\n",
    "import scipy as sp\n",
    "import matplotlib.pyplot as plt\n",
    "from scipy.stats import norm\n",
    "from sklearn import mixture\n",
    "import time\n",
    "from gmm_poly import *\n",
    "%matplotlib inline \n",
    "class Test(object):\n",
    "    def __init__(self, param, n_samples, seed = 1):\n",
    "            self.seed = seed\n",
    "            self.param = param\n",
    "            self.w1 = param[0]\n",
    "            self.w2 = param[1]\n",
    "            self.mu1 = param[2]\n",
    "            self.mu2 = param[3]\n",
    "            self.sigma1 = param[4]\n",
    "            self.sigma2 = param[5]\n",
    "            self.n_samples = n_samples\n",
    "            self.sample2d, self.sample1d  = self.sample(seed = self.seed)\n",
    "            \n",
    "    def param_dist(self, est, real):\n",
    "        if type(est).__module__ != 'numpy':\n",
    "            est = np.array(est)\n",
    "        if type(real).__module__ != 'numpy':\n",
    "            real = np.array(real) \n",
    "        return np.sum(np.abs(est - real))\n",
    "    \n",
    "    def sample(self, seed = 0):\n",
    "        np.random.seed(seed)\n",
    "        gmix = mixture.GaussianMixture(n_components=2, covariance_type='full')\n",
    "        gmix.fit(np.random.rand(3,1))  # Now it thinks it is trained\n",
    "        gmix.weights_ = np.array([self.w1, self.w2]) # mixture weights (n_components,) \n",
    "        gmix.means_ = np.array([[self.mu1], [self.mu2]])         # mixture means (n_components, 2) \n",
    "        gmix.covariances_ = np.array([[[self.sigma1**2]], [[self.sigma2**2]]]) # mixture cov (n_components, 2, 2)\n",
    "        sample, _ = gmix.sample(self.n_samples)\n",
    "        return (sample, sample.flatten())\n",
    "\n",
    "    def unitest(self, eps, isplot = True):\n",
    "        # fit a Gaussian Mixture Model with two components\n",
    "        start = time.time()\n",
    "        clf = mixture.GaussianMixture(n_components=2, covariance_type='full')\n",
    "        clf.fit(self.sample2d)\n",
    "        end = time.time()\n",
    "        t1 = (end - start)\n",
    "\n",
    "        start = time.time()\n",
    "        test = TwoGaussian(self.sample1d)\n",
    "        #res = test.recoverFromMoments(eps)\n",
    "        res = test.recover1DMixture(eps)\n",
    "        end = time.time()\n",
    "        t2 = (end - start)\n",
    "        #print \"Skelearn GMM cost time is: {} sec. \\n\".format(t1)\n",
    "        #print \"Moment method GMM cost time is: {} sec. \\n\".format(t2)\n",
    "        param1 = self.parseGMM(clf)\n",
    "        param2 = self.parseTwoGmm(res)\n",
    "        dist1 = self.param_dist(param1, self.param)\n",
    "        dist2 = self.param_dist(param2, self.param)\n",
    "        if isplot:\n",
    "            self.plot(param1.flatten(), param2.flatten())\n",
    "        return ([t1, dist1, param1], [t2, dist2, param2])\n",
    "    \n",
    "    def parseGMM(self, model):\n",
    "        res = np.round([model.weights_.flatten(),model.means_.flatten(),np.sqrt(model.covariances_.flatten())],4)\n",
    "        return res[0].tolist()+res[1].tolist()+res[2].tolist()\n",
    "    \n",
    "    def parseTwoGmm(self, model):\n",
    "        model = np.round(np.array(model), 4)\n",
    "        return model[0].tolist()+model[1].tolist()+model[2].tolist()\n",
    "    \n",
    "    def generateMixture(self, bins, param):\n",
    "        assert len(param) == 6\n",
    "        return param[0]*norm.pdf(bins, loc=param[2], scale=param[4])\\\n",
    "        +param[1]*norm.pdf(bins, loc=param[3], scale=param[5])\n",
    "        \n",
    "    def plot(self, param1, param2):\n",
    "        n, bins, patches =plt.hist(self.sample1d, 50, normed=1, facecolor='green', alpha=0.75)\n",
    "        y1 = self.generateMixture(bins, param1)\n",
    "        plot1 = plt.plot(bins, y1, 'r--', linewidth=1, color = 'red')\n",
    "        y2 = self.generateMixture(bins, param2)\n",
    "        plot2 = plt.plot(bins, y2, 'r--', linewidth=1, color = 'blue')"
   ]
  },
  {
   "cell_type": "code",
   "execution_count": 32,
   "metadata": {
    "collapsed": false
   },
   "outputs": [
    {
     "name": "stdout",
     "output_type": "stream",
     "text": [
      "([0.016084909439086914, [0.8001, 0.1999, 3.9325, -4.0034, 2.0114, 0.2341]], [0.0036160945892333984, [0.2079, 0.7921, -3.8917, 3.9837, 0.5199, 1.9621]])\n"
     ]
    }
   ],
   "source": [
    "if __name__ == \"__main__\":\n",
    "    unitest = Test(param = [0.2, 0.8, -4, 4, 1/4,2],n_samples=5000, seed = 10)\n",
    "    print unitest.unitest(0.5, isplot = False)"
   ]
  },
  {
   "cell_type": "code",
   "execution_count": null,
   "metadata": {
    "collapsed": false
   },
   "outputs": [],
   "source": []
  },
  {
   "cell_type": "code",
   "execution_count": null,
   "metadata": {
    "collapsed": true
   },
   "outputs": [],
   "source": []
  }
 ],
 "metadata": {
  "kernelspec": {
   "display_name": "Python 2",
   "language": "python",
   "name": "python2"
  },
  "language_info": {
   "codemirror_mode": {
    "name": "ipython",
    "version": 2
   },
   "file_extension": ".py",
   "mimetype": "text/x-python",
   "name": "python",
   "nbconvert_exporter": "python",
   "pygments_lexer": "ipython2",
   "version": "2.7.12"
  }
 },
 "nbformat": 4,
 "nbformat_minor": 0
}
