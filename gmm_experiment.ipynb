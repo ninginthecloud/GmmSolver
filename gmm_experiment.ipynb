{
 "cells": [
  {
   "cell_type": "code",
   "execution_count": 53,
   "metadata": {
    "collapsed": false
   },
   "outputs": [],
   "source": [
    "#! /usr/bin/env python\n",
    "'''\n",
    "    code for gaussian mixture solver\n",
    "    based on Kalai STOC'10 paper\n",
    "    Efficiently learning mixtures of two gaussians\n",
    "'''\n",
    "from __future__ import division\n",
    "import numpy as np\n",
    "import scipy as sp\n",
    "import pandas as pd\n",
    "import matplotlib.pyplot as plt\n",
    "import matplotlib\n",
    "#matplotlib.style.use('ggplot')\n",
    "import seaborn as sns\n",
    "sns.set_style(\"darkgrid\")\n",
    "from scipy.stats import norm\n",
    "from sklearn import mixture\n",
    "import time\n",
    "from gmm_poly import *\n",
    "from gmm_test import *\n",
    "%matplotlib inline "
   ]
  },
  {
   "cell_type": "code",
   "execution_count": 61,
   "metadata": {
    "collapsed": true
   },
   "outputs": [],
   "source": [
    "class Experiment(object):\n",
    "    def __init__(self, param,seed = 1):\n",
    "        self.param = param\n",
    "        #self.n_samples = n_samples\n",
    "        self.seed = seed\n",
    "        #self.Test = Test(param = self.param,n_samples=self.n_samples, seed = self.seed)\n",
    "        \n",
    "    def timerate(self, eps, n_samples, n_reps=50):\n",
    "        t = 0\n",
    "        for i in np.arange(n_reps):\n",
    "            temptest = Test(param = self.param,n_samples= n_samples, seed = self.seed)\n",
    "            res1, res2 = temptest.unitest(eps,isplot = False)\n",
    "            t += res1[0]/res2[0]\n",
    "        return t/n_reps\n",
    "        \n",
    "        \n",
    "    def timerate_test(self, eps, samplelist, filename = '../man/plots/rate.pdf',isplot = True):\n",
    "        ratelist = []\n",
    "        for s in samplelist:\n",
    "            print \"running on rep = {}\".format(s)\n",
    "            ratelist += [self.timerate(eps, s)]\n",
    "        if isplot:\n",
    "            sns.set_style(\"darkgrid\")\n",
    "            plt.loglog(samplelist, ratelist, marker='o', linestyle='-', color='r', label='Rate(sklearn/moment)')\n",
    "            plt.xlabel('SampleSize')\n",
    "            plt.ylabel('Rate(sklearn/moment)')\n",
    "            plt.legend()\n",
    "            plt.show()\n",
    "            plt.savefig(filename)\n",
    "            #sdata = pd.DataFrame(data=np.array([samplelist, ratelist]).transpose(),    # values\n",
    "            #  index=samplelist,    # 1st column as index\n",
    "            #  columns=['samplesize','Rate(sklearn/moment)'])\n",
    "            #sdata.plot(x = 'samplesize', y = 'Rate(sklearn/moment)', kind='bar')\n",
    "        return ratelist \n",
    "    "
   ]
  },
  {
   "cell_type": "code",
   "execution_count": 62,
   "metadata": {
    "collapsed": false
   },
   "outputs": [
    {
     "name": "stdout",
     "output_type": "stream",
     "text": [
      "running on rep = 10\n",
      "running on rep = 100\n",
      "running on rep = 1000\n",
      "running on rep = 10000\n",
      "running on rep = 100000\n",
      "running on rep = 1000000\n"
     ]
    },
    {
     "data": {
      "image/png": "[encoded data removed]",
      "text/plain": [
       "<matplotlib.figure.Figure at 0x11afe5e10>"
      ]
     },
     "metadata": {},
     "output_type": "display_data"
    },
    {
     "data": {
      "text/plain": [
       "<matplotlib.figure.Figure at 0x11aa0ea10>"
      ]
     },
     "metadata": {},
     "output_type": "display_data"
    }
   ],
   "source": [
    "if __name__ == \"__main__\":\n",
    "    experiment_turn1 = Experiment(param = [0.5, 0.5, -2, 2, 1,1], seed = 10)\n",
    "    ratetest = experiment_turn1.timerate(0.5, 1000)\n",
    "    plotlist = experiment_turn1.timerate_test(0.5, [10**x for x in np.arange(6)+1], isplot = True)"
   ]
  },
  {
   "cell_type": "code",
   "execution_count": 63,
   "metadata": {
    "collapsed": false
   },
   "outputs": [
    {
     "data": {
      "text/plain": [
       "[2.265373223303014,\n",
       " 2.683236062236497,\n",
       " 2.9428478703400707,\n",
       " 3.171474580642264,\n",
       " 5.81884704936355,\n",
       " 6.8447445740720525]"
      ]
     },
     "execution_count": 63,
     "metadata": {},
     "output_type": "execute_result"
    }
   ],
   "source": [
    "plotlist"
   ]
  },
  {
   "cell_type": "code",
   "execution_count": null,
   "metadata": {
    "collapsed": true
   },
   "outputs": [],
   "source": []
  }
 ],
 "metadata": {
  "kernelspec": {
   "display_name": "Python 2",
   "language": "python",
   "name": "python2"
  },
  "language_info": {
   "codemirror_mode": {
    "name": "ipython",
    "version": 2
   },
   "file_extension": ".py",
   "mimetype": "text/x-python",
   "name": "python",
   "nbconvert_exporter": "python",
   "pygments_lexer": "ipython2",
   "version": "2.7.12"
  }
 },
 "nbformat": 4,
 "nbformat_minor": 0
}
