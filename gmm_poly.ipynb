{
 "cells": [
  {
   "cell_type": "code",
   "execution_count": 51,
   "metadata": {
    "collapsed": true
   },
   "outputs": [],
   "source": [
    "#! /usr/bin/env python\n",
    "'''\n",
    "    code for gaussian mixture solver\n",
    "    based on Kalai STOC'10 paper\n",
    "    Efficiently learning mixtures of two gaussians\n",
    "'''\n",
    "from __future__ import division\n",
    "import numpy as np\n",
    "import scipy as sp\n",
    "import matplotlib.pyplot as plt\n",
    "from scipy.stats import norm\n",
    "%matplotlib inline "
   ]
  },
  {
   "cell_type": "code",
   "execution_count": null,
   "metadata": {
    "collapsed": true
   },
   "outputs": [],
   "source": [
    "class TwoGaussian(object):\n",
    "    def __init__(self, sample):\n",
    "        self.M1 = np.mean(sample)\n",
    "        self.M2 = np.mean(sample**2)\n",
    "        self.M3 = np.mean(sample**3)\n",
    "        self.M4 = np.mean(sample**4)\n",
    "        self.M5 = np.mean(sample**5)\n",
    "        self.M6 = np.mean(sample**6)\n",
    "        self.x3 = self.M3\n",
    "        self.x4 = self.M4 - 3* self.M2**2\n",
    "        self.x5 = self.M5 - 10 * self.M3 * self.M2\n",
    "        self.x6 = self.M6 - 15 * self.M4 * self.M2 + 30 * self.M2**3\n",
    "        self.alpha\n",
    "        self.gamma\n",
    "        self.beta\n",
    "        \n",
    "    def recoverAlphaFromMoment(self, eps):\n",
    "        X3, X4, X5, X6 = [self.x3, self.x4, self.x5, self.x6]\n",
    "        coeff = [2, X4, -X3**2]\n",
    "        ymax = np.max(np.roots(coeff))\n",
    "        kai = 1 + np.sqrt(np.abs(X4))/ymax\n",
    "        #remove 18th degree polynomial for reference in later session\n",
    "        \n",
    "        #only keep cofficients of the first derivative of r(y)\n",
    "        coeff= rprime(self, X3, X4, X5, X6)\n",
    "        R = np.roots(coeff)\n",
    "        candidates = np.append(R, (1+eps/kai)*ymax)\n",
    "        alphaOPT = float('-inf')\n",
    "        thred1 = (1+eps/kai)*ymax\n",
    "        thred2 = (eps**2)*(kai**10)\n",
    "        small_candidates = candidates[candidates <= thred1]\n",
    "        res = [x for x in small_candidates if ry(x) <= thred2*x**18]\n",
    "        assert len(res) > 0 'no valid solution for alpha'\n",
    "        return np.max(res)\n",
    "            \n",
    "            \n",
    "        \n",
    "        return ymax\n",
    "    def ry(self, y):\n",
    "        X3, X4, X5, X6 = [self.x3, self.x4, self.x5, self.x6]\n",
    "        ry = 80*X3**12 - 640*X3**10*X4*y + 1984*X3**10*y**3 + \\\n",
    "        464*X3**9*X5*y**2 + 1720*X3**8*X4**2*y**2 - 10880*X3**8*X4*y**4 - \\\n",
    "        32*X3**8*X6*y**3 + 11872*X3**8*y**6 - 2488*X3**7*X4*X5*y**3 + \\\n",
    "        6096*X3**7*X5*y**5 - 1640*X3**6*X4**3*y**3 + 17920*X3**6*X4**2*y**5 + \\\n",
    "        152*X3**6*X4*X6*y**4 - 33888*X3**6*X4*y**7 + 772*X3**6*X5**2*y**4 - \\\n",
    "        432*X3**6*X6*y**6 - 6144*X3**6*y**9 + 3796*X3**5*X4**2*X5*y**4 - \\\n",
    "        17712*X3**5*X4*X5*y**6 - 80*X3**5*X5*X6*y**5 + 3088*X3**5*X5*y**8 + \\\n",
    "        130*X3**4*X4**4*y**4 - 9320*X3**4*X4**3*y**6 - 200*X3**4*X4**2*X6*y**5 + \\\n",
    "        31184*X3**4*X4**2*y**8 - 2252*X3**4*X4*X5**2*y**5 + 848*X3**4*X4*X6*y**7 + \\\n",
    "        16480*X3**4*X4*y**10 + 2264*X3**4*X5**2*y**7 + 16*X3**4*X6**2*y**6 + 512*X3**4*X6*y**9 + \\\n",
    "        3872*X3**4*y**12 - 1322*X3**3*X4**3*X5*y**5 + 14500*X3**3*X4**2*X5*y**7 + \\\n",
    "        116*X3**3*X4*X5*X6*y**6 - 3544*X3**3*X4*X5*y**9 + 288*X3**3*X5**3*y**6 + \\\n",
    "        56*X3**3*X5*X6*y**8 + 112*X3**3*X5*y**11 + 300*X3**2*X4**5*y**5 - 400*X3**2*X4**4*y**7 + \\\n",
    "        102*X3**2*X4**3*X6*y**6 - 10144*X3**2*X4**3*y**9 + 1597*X3**2*X4**2*X5**2*y**6 - \\\n",
    "        556*X3**2*X4**2*X6*y**8 - 14080*X3**2*X4**2*y**11 - 3476*X3**2*X4*X5**2*y**8 - \\\n",
    "        24*X3**2*X4*X6**2*y**7 - 728*X3**2*X4*X6*y**10 - 6208*X3**2*X4*y**13 + 436*X3**2*X5**2*y**10 - \\\n",
    "        16*X3**2*X6**2*y**9 - 208*X3**2*X6*y**12 - 768*X3**2*y**15 - 606*X3*X4**4*X5*y**6 - \\\n",
    "        2024*X3*X4**3*X5*y**8 - 42*X3*X4**2*X5*X6*y**7 - 1056*X3*X4**2*X5*y**10 - \\\n",
    "        432*X3*X4*X5**3*y**7 - 40*X3*X4*X5*X6*y**9 + 544*X3*X4*X5*y**12 + 288*X3*X5**3*y**9 - \\\n",
    "        8*X3*X5*X6*y**11 + 352*X3*X5*y**14 + 90*X4**6*y**6 + 408*X4**5*y**8 - 18*X4**4*X6*y**7 + \\\n",
    "        1720*X4**4*y**10 + 108*X4**3*X5**2*y**7 + 120*X4**3*X6*y**9 + 3008*X4**3*y**12 + \\\n",
    "        360*X4**2*X5**2*y**9 + 9*X4**2*X6**2*y**8 + 256*X4**2*X6*y**11 + 2400*X4**2*y**14 + \\\n",
    "        336*X4*X5**2*y**11 + 12*X4*X6**2*y**10 + 160*X4*X6*y**13 + 896*X4*y**16 + 36*X5**4*y**8 + \\\n",
    "        96*X5**2*y**13 + 4*X6**2*y**12 + 32*X6*y**15 + 128*y**18\n",
    "        return ry\n",
    "    def rprime(self, X3, X4, X5, X6):\n",
    "        res = [2304,\n",
    " 0,\n",
    " 14336*X4,\n",
    " -11520*X3**2 + 480*X6,\n",
    " 4928*X3*X5 + 33600*X4**2,\n",
    " -80704*X3**2*X4 + 2080*X4*X6 + 1248*X5**2,\n",
    " 46464*X3**4 - 2496*X3**2*X6 + 6528*X3*X4*X5 + 36096*X4**3 + 48*X6**2,\n",
    " 1232*X3**3*X5 - 154880*X3**2*X4**2 - 88*X3*X5*X6 + 2816*X4**2*X6 + 3696*X4*X5**2,\n",
    " 164800*X3**4*X4 - 7280*X3**2*X4*X6 + 4360*X3**2*X5**2 - 10560*X3*X4**2*X5 + 17200*X4**4 + 120*X4*X6**2,\n",
    " -55296*X3**6 + 4608*X3**4*X6 - 31896*X3**3*X4*X5 - 91296*X3**2*X4**3 - 144*X3**2*X6**2 - 360*X3*X4*X5*X6 + 2592*X3*X5**3 + 1080*X4**3*X6 + 3240*X4**2*X5**2,\n",
    " 24704*X3**5*X5 + 249472*X3**4*X4**2 + 448*X3**3*X5*X6 - 4448*X3**2*X4**2*X6 - 27808*X3**2*X4*X5**2 - 16192*X3*X4**3*X5 + 3264*X4**5 + 72*X4**2*X6**2 + 288*X5**4,\n",
    " -237216*X3**6*X4 + 5936*X3**4*X4*X6 + 15848*X3**4*X5**2 + 101500*X3**3*X4**2*X5 - 2800*X3**2*X4**4 - 168*X3**2*X4*X6**2 - 294*X3*X4**2*X5*X6 - 3024*X3*X4*X5**3 - 126*X4**4*X6 + 756*X4**3*X5**2,\n",
    " 71232*X3**8 - 2592*X3**6*X6 - 106272*X3**5*X4*X5 - 55920*X3**4*X4**3 + 96*X3**4*X6**2 + 696*X3**3*X4*X5*X6 + 1728*X3**3*X5**3 + 612*X3**2*X4**3*X6 + 9582*X3**2*X4**2*X5**2 - 3636*X3*X4**4*X5 + 540*X4**6,\n",
    " 30480*X3**7*X5 + 89600*X3**6*X4**2 - 400*X3**5*X5*X6 - 1000*X3**4*X4**2*X6 - 11260*X3**4*X4*X5**2 - 6610*X3**3*X4**3*X5 + 1500*X3**2*X4**5,\n",
    " -43520*X3**8*X4 + 608*X3**6*X4*X6 + 3088*X3**6*X5**2 + 15184*X3**5*X4**2*X5 + 520*X3**4*X4**4,\n",
    " 5952*X3**10 - 96*X3**8*X6 - 7464*X3**7*X4*X5 - 4920*X3**6*X4**3,\n",
    " 928*X3**9*X5 + 3440*X3**8*X4**2,\n",
    " -640*X3**10*X4]\n",
    "        return res"
   ]
  },
  {
   "cell_type": "code",
   "execution_count": 109,
   "metadata": {
    "collapsed": false
   },
   "outputs": [
    {
     "data": {
      "text/plain": [
       "80*X3**12 - 640*X3**10*X4*y + 1984*X3**10*y**3 + 464*X3**9*X5*y**2 + 1720*X3**8*X4**2*y**2 - 10880*X3**8*X4*y**4 - 32*X3**8*X6*y**3 + 11872*X3**8*y**6 - 2488*X3**7*X4*X5*y**3 + 6096*X3**7*X5*y**5 - 1640*X3**6*X4**3*y**3 + 17920*X3**6*X4**2*y**5 + 152*X3**6*X4*X6*y**4 - 33888*X3**6*X4*y**7 + 772*X3**6*X5**2*y**4 - 432*X3**6*X6*y**6 - 6144*X3**6*y**9 + 3796*X3**5*X4**2*X5*y**4 - 17712*X3**5*X4*X5*y**6 - 80*X3**5*X5*X6*y**5 + 3088*X3**5*X5*y**8 + 130*X3**4*X4**4*y**4 - 9320*X3**4*X4**3*y**6 - 200*X3**4*X4**2*X6*y**5 + 31184*X3**4*X4**2*y**8 - 2252*X3**4*X4*X5**2*y**5 + 848*X3**4*X4*X6*y**7 + 16480*X3**4*X4*y**10 + 2264*X3**4*X5**2*y**7 + 16*X3**4*X6**2*y**6 + 512*X3**4*X6*y**9 + 3872*X3**4*y**12 - 1322*X3**3*X4**3*X5*y**5 + 14500*X3**3*X4**2*X5*y**7 + 116*X3**3*X4*X5*X6*y**6 - 3544*X3**3*X4*X5*y**9 + 288*X3**3*X5**3*y**6 + 56*X3**3*X5*X6*y**8 + 112*X3**3*X5*y**11 + 300*X3**2*X4**5*y**5 - 400*X3**2*X4**4*y**7 + 102*X3**2*X4**3*X6*y**6 - 10144*X3**2*X4**3*y**9 + 1597*X3**2*X4**2*X5**2*y**6 - 556*X3**2*X4**2*X6*y**8 - 14080*X3**2*X4**2*y**11 - 3476*X3**2*X4*X5**2*y**8 - 24*X3**2*X4*X6**2*y**7 - 728*X3**2*X4*X6*y**10 - 6208*X3**2*X4*y**13 + 436*X3**2*X5**2*y**10 - 16*X3**2*X6**2*y**9 - 208*X3**2*X6*y**12 - 768*X3**2*y**15 - 606*X3*X4**4*X5*y**6 - 2024*X3*X4**3*X5*y**8 - 42*X3*X4**2*X5*X6*y**7 - 1056*X3*X4**2*X5*y**10 - 432*X3*X4*X5**3*y**7 - 40*X3*X4*X5*X6*y**9 + 544*X3*X4*X5*y**12 + 288*X3*X5**3*y**9 - 8*X3*X5*X6*y**11 + 352*X3*X5*y**14 + 90*X4**6*y**6 + 408*X4**5*y**8 - 18*X4**4*X6*y**7 + 1720*X4**4*y**10 + 108*X4**3*X5**2*y**7 + 120*X4**3*X6*y**9 + 3008*X4**3*y**12 + 360*X4**2*X5**2*y**9 + 9*X4**2*X6**2*y**8 + 256*X4**2*X6*y**11 + 2400*X4**2*y**14 + 336*X4*X5**2*y**11 + 12*X4*X6**2*y**10 + 160*X4*X6*y**13 + 896*X4*y**16 + 36*X5**4*y**8 + 96*X5**2*y**13 + 4*X6**2*y**12 + 32*X6*y**15 + 128*y**18"
      ]
     },
     "execution_count": 109,
     "metadata": {},
     "output_type": "execute_result"
    }
   ],
   "source": [
    "#! /usr/bin/python\n",
    "# Setup variables and expressions\n",
    "from sympy import *\n",
    "alpha = Symbol(r'\\alpha')\n",
    "beta = Symbol(r'\\beta')\n",
    "gamma = Symbol(r'\\gamma')\n",
    "X3 = Symbol('X3')\n",
    "X4 = Symbol('X4')\n",
    "X5 = Symbol('X5')\n",
    "X6 = Symbol('X6')\n",
    "y = Symbol('y')\n",
    "#X3 = alpha * beta + 3 * alpha * gamma\n",
    "#X4 = -2*alpha**2 + alpha*beta**2 + 6*alpha*beta*gamma + 3*alpha*gamma**2\n",
    "#X5 = alpha * (beta**3 - 8*alpha*beta + 10*beta**2*gamma + 15*gamma**2*beta\n",
    "#- 20*alpha*gamma)\n",
    "#X6 = alpha*(16*alpha**2 - 12*alpha*beta**2 + beta**4 + 45*beta**2*gamma**2 +\n",
    "#15*beta*gamma**3 + 15*gamma*(-4*alpha*beta + beta**3))\n",
    "p5 = (6*(2*X3*y**3 + X5*y**2 - 3*X3*X4*y + 2*X3**3)**2 +\n",
    "(2*y**3+3*X4*y - 4*X3**2)**2*(2*y**3 + X4*y - X3**2))**2\n",
    "p6 = ((4*X3**2 - 3*X4*y - 2*y**3) *\n",
    "(4*X3**4 - 4*X3**2*X4*y - 8*X3**2*y**3 - X4**2*y**2 +\n",
    "8*X4*y**4 + X6*y**3 + 4*y**6) -\n",
    "(10*X3**3 - 7*X3*X4*y - 2*X3*y**3) *\n",
    "(2*X3**3 - 3*X3*X4*y + 2*X3*y**3 + X5*y**2))**2\n",
    "r = p5+p6\n",
    "rprime = diff(r, y)\n",
    "#rprimePoly = Poly(rprime, y)\n",
    "#rprimePoly.all_coeffs()\n",
    "r.expand()"
   ]
  },
  {
   "cell_type": "code",
   "execution_count": 99,
   "metadata": {
    "collapsed": false
   },
   "outputs": [
    {
     "data": {
      "text/plain": [
       "[9, 3, 1]"
      ]
     },
     "execution_count": 99,
     "metadata": {},
     "output_type": "execute_result"
    }
   ],
   "source": [
    "\n"
   ]
  },
  {
   "cell_type": "code",
   "execution_count": 3,
   "metadata": {
    "collapsed": true
   },
   "outputs": [],
   "source": [
    "def univariate_est(eps, delta, SAF):\n",
    "    '''\n",
    "        univariate estimation for two guassian mmixture\n",
    "        ----\n",
    "        return (w_i, mu_i, sigma_i) for i = 1, 2\n",
    "    '''\n",
    "    M = [0]*6\n",
    "    M[1] = 1\n",
    "    alpha = eps**150\n",
    "    m = np.ceil(500**2/(alpha**2*delta))\n",
    "    N = np.ceil(1/(alpha * epsilon**3))\n",
    "    sampleM = np.random.choice(SAF, m, replace=True)\n",
    "    for i in np.arange(6)[2:]:\n",
    "        M[i] = np.mean(sampleM**(i+1))\n",
    "    A = np.arange(N)[1:]/N\n",
    "    B = np.arange(2*N+1)/N-N\n",
    "    \n",
    "        "
   ]
  },
  {
   "cell_type": "code",
   "execution_count": 4,
   "metadata": {
    "collapsed": false
   },
   "outputs": [],
   "source": [
    "def moment(mu, sigma, order):\n",
    "    '''\n",
    "        gaussian moment calculation\n",
    "        ---\n",
    "        mu:\n",
    "        sigma:\n",
    "        order: optional value range 1, 2, 3, 4, 5, 6\n",
    "        ---\n",
    "        return moment value with corresponding order\n",
    "    '''\n",
    "    if order == 1:\n",
    "        return mu\n",
    "    if order == 2:\n",
    "        return mu**2+sigma**2\n",
    "    if order == 3:\n",
    "        return mu**3 + 3*mu*sigma**2\n",
    "    if order == 4:\n",
    "        return mu**4+6*mu**2*sigma**2+3*sigma**4\n",
    "    if order == 5:\n",
    "        return mu**5+10*mu**3*sigma**2+15*mu*sigma**4\n",
    "    if order == 6:\n",
    "        return mu**6+15*mu**4*sigma**2+45*mu**2*sigma**4 + 15*sigma**6 "
   ]
  },
  {
   "cell_type": "code",
   "execution_count": 58,
   "metadata": {
    "collapsed": false
   },
   "outputs": [],
   "source": [
    "x = np.random.normal(0,1, 100)\n",
    "y = np.append(x, np.random.normal(4, 0.5, 100))\n",
    "mx = []\n",
    "for j in np.arange(6):\n",
    "    mx += [np.mean(x**(j+1))]\n",
    "mx = np.array(mx)\n",
    "\n",
    "\n",
    "def loss_abs(x, m=mx):\n",
    "    mm1=[]\n",
    "    mm2 = []\n",
    "    for i in np.arange(6):\n",
    "        mm1+= [moment(x[1], x[2], i+1)]\n",
    "        mm2+= [moment(x[3], x[4], i+1)]\n",
    "    mm = x[0]*np.array(mm1)+(1-x[0])*np.array(mm2)\n",
    "    return sum((m-mm)**2)\n",
    "\n",
    "from scipy.optimize import minimize\n",
    "x0 = np.array([0.5,0,1,4,0.25])\n",
    "bnds = ((0, 1), (None, None), (None, None), (None, None), (None, None))\n",
    "#res = minimize(loss_abs, x0, method = \"BFGS\")"
   ]
  },
  {
   "cell_type": "code",
   "execution_count": 59,
   "metadata": {
    "collapsed": false
   },
   "outputs": [],
   "source": [
    "res = minimize(loss_abs, x0, method = 'L-BFGS-B', bounds=bnds)"
   ]
  },
  {
   "cell_type": "code",
   "execution_count": 60,
   "metadata": {
    "collapsed": false
   },
   "outputs": [],
   "source": [
    "#loss_abs(x0)"
   ]
  },
  {
   "cell_type": "code",
   "execution_count": 61,
   "metadata": {
    "collapsed": false
   },
   "outputs": [
    {
     "data": {
      "text/plain": [
       "array([ 0.70498765, -0.44410774,  0.90654254,  1.30307228, -0.5114366 ])"
      ]
     },
     "execution_count": 61,
     "metadata": {},
     "output_type": "execute_result"
    }
   ],
   "source": [
    "res.x"
   ]
  },
  {
   "cell_type": "code",
   "execution_count": 62,
   "metadata": {
    "collapsed": false
   },
   "outputs": [
    {
     "data": {
      "image/png": "[encoded data removed]",
      "text/plain": [
       "<matplotlib.figure.Figure at 0x110f06910>"
      ]
     },
     "metadata": {},
     "output_type": "display_data"
    }
   ],
   "source": [
    "n, bins, patches =plt.hist(y, 50, normed=1, facecolor='green', alpha=0.75)"
   ]
  },
  {
   "cell_type": "code",
   "execution_count": 64,
   "metadata": {
    "collapsed": false
   },
   "outputs": [
    {
     "data": {
      "image/png": "[encoded data removed]",
      "text/plain": [
       "<matplotlib.figure.Figure at 0x111d4c350>"
      ]
     },
     "metadata": {},
     "output_type": "display_data"
    }
   ],
   "source": [
    "y = res.x[0]*norm.pdf(bins, loc=res.x[1], scale=res.x[2])\\\n",
    "+(1-res.x[0])*norm.pdf(bins, loc=res.x[3], scale=np.abs(res.x[4]))\n",
    "l = plt.plot(bins, y, 'r--', linewidth=1)\n",
    "plt.show()"
   ]
  },
  {
   "cell_type": "code",
   "execution_count": 101,
   "metadata": {
    "collapsed": false
   },
   "outputs": [],
   "source": [
    "coeff = [1, 2, 1]\n",
    "a = np.roots(coeff)"
   ]
  },
  {
   "cell_type": "code",
   "execution_count": 103,
   "metadata": {
    "collapsed": false
   },
   "outputs": [
    {
     "data": {
      "text/plain": [
       "array([-1., -1.,  6.])"
      ]
     },
     "execution_count": 103,
     "metadata": {},
     "output_type": "execute_result"
    }
   ],
   "source": [
    "np.append(a, 6)"
   ]
  },
  {
   "cell_type": "code",
   "execution_count": 130,
   "metadata": {
    "collapsed": false
   },
   "outputs": [
    {
     "name": "stdout",
     "output_type": "stream",
     "text": [
      "None\n"
     ]
    }
   ],
   "source": [
    "a = np.array([1, 2, 3, 4])\n",
    "if len([x for x in a if (x**2-4*x) <= x-10]) == 0:\n",
    "    print 'None'\n",
    "else:\n",
    "    print 'y'"
   ]
  },
  {
   "cell_type": "code",
   "execution_count": 133,
   "metadata": {
    "collapsed": false
   },
   "outputs": [
    {
     "name": "stdout",
     "output_type": "stream",
     "text": [
      "1\n",
      "2\n",
      "3\n"
     ]
    }
   ],
   "source": [
    "a, b, c = (1, 2, 3)\n",
    "print a\n",
    "print b\n",
    "print c"
   ]
  },
  {
   "cell_type": "code",
   "execution_count": null,
   "metadata": {
    "collapsed": false
   },
   "outputs": [],
   "source": []
  },
  {
   "cell_type": "code",
   "execution_count": null,
   "metadata": {
    "collapsed": true
   },
   "outputs": [],
   "source": []
  }
 ],
 "metadata": {
  "kernelspec": {
   "display_name": "Python 2",
   "language": "python",
   "name": "python2"
  },
  "language_info": {
   "codemirror_mode": {
    "name": "ipython",
    "version": 2
   },
   "file_extension": ".py",
   "mimetype": "text/x-python",
   "name": "python",
   "nbconvert_exporter": "python",
   "pygments_lexer": "ipython2",
   "version": "2.7.12"
  }
 },
 "nbformat": 4,
 "nbformat_minor": 0
}
