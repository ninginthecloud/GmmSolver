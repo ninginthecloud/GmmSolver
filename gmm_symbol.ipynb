{
 "cells": [
  {
   "cell_type": "code",
   "execution_count": 1,
   "metadata": {
    "collapsed": false
   },
   "outputs": [
    {
     "data": {
      "text/plain": [
       "80*X3**12/y**18 - 640*X3**10*X4/y**17 + 1984*X3**10/y**15 + 464*X3**9*X5/y**16 + 1720*X3**8*X4**2/y**16 - 10880*X3**8*X4/y**14 - 32*X3**8*X6/y**15 + 11872*X3**8/y**12 - 2488*X3**7*X4*X5/y**15 + 6096*X3**7*X5/y**13 - 1640*X3**6*X4**3/y**15 + 17920*X3**6*X4**2/y**13 + 152*X3**6*X4*X6/y**14 - 33888*X3**6*X4/y**11 + 772*X3**6*X5**2/y**14 - 432*X3**6*X6/y**12 - 6144*X3**6/y**9 + 3796*X3**5*X4**2*X5/y**14 - 17712*X3**5*X4*X5/y**12 - 80*X3**5*X5*X6/y**13 + 3088*X3**5*X5/y**10 + 130*X3**4*X4**4/y**14 - 9320*X3**4*X4**3/y**12 - 200*X3**4*X4**2*X6/y**13 + 31184*X3**4*X4**2/y**10 - 2252*X3**4*X4*X5**2/y**13 + 848*X3**4*X4*X6/y**11 + 16480*X3**4*X4/y**8 + 2264*X3**4*X5**2/y**11 + 16*X3**4*X6**2/y**12 + 512*X3**4*X6/y**9 + 3872*X3**4/y**6 - 1322*X3**3*X4**3*X5/y**13 + 14500*X3**3*X4**2*X5/y**11 + 116*X3**3*X4*X5*X6/y**12 - 3544*X3**3*X4*X5/y**9 + 288*X3**3*X5**3/y**12 + 56*X3**3*X5*X6/y**10 + 112*X3**3*X5/y**7 + 300*X3**2*X4**5/y**13 - 400*X3**2*X4**4/y**11 + 102*X3**2*X4**3*X6/y**12 - 10144*X3**2*X4**3/y**9 + 1597*X3**2*X4**2*X5**2/y**12 - 556*X3**2*X4**2*X6/y**10 - 14080*X3**2*X4**2/y**7 - 3476*X3**2*X4*X5**2/y**10 - 24*X3**2*X4*X6**2/y**11 - 728*X3**2*X4*X6/y**8 - 6208*X3**2*X4/y**5 + 436*X3**2*X5**2/y**8 - 16*X3**2*X6**2/y**9 - 208*X3**2*X6/y**6 - 768*X3**2/y**3 - 606*X3*X4**4*X5/y**12 - 2024*X3*X4**3*X5/y**10 - 42*X3*X4**2*X5*X6/y**11 - 1056*X3*X4**2*X5/y**8 - 432*X3*X4*X5**3/y**11 - 40*X3*X4*X5*X6/y**9 + 544*X3*X4*X5/y**6 + 288*X3*X5**3/y**9 - 8*X3*X5*X6/y**7 + 352*X3*X5/y**4 + 90*X4**6/y**12 + 408*X4**5/y**10 - 18*X4**4*X6/y**11 + 1720*X4**4/y**8 + 108*X4**3*X5**2/y**11 + 120*X4**3*X6/y**9 + 3008*X4**3/y**6 + 360*X4**2*X5**2/y**9 + 9*X4**2*X6**2/y**10 + 256*X4**2*X6/y**7 + 2400*X4**2/y**4 + 336*X4*X5**2/y**7 + 12*X4*X6**2/y**8 + 160*X4*X6/y**5 + 896*X4/y**2 + 36*X5**4/y**10 + 96*X5**2/y**5 + 4*X6**2/y**6 + 32*X6/y**3 + 128"
      ]
     },
     "execution_count": 1,
     "metadata": {},
     "output_type": "execute_result"
    }
   ],
   "source": [
    "#! /usr/bin/python\n",
    "# Setup variables and expressions\n",
    "from sympy import *\n",
    "alpha = Symbol(r'\\alpha')\n",
    "beta = Symbol(r'\\beta')\n",
    "gamma = Symbol(r'\\gamma')\n",
    "X3 = Symbol('X3')\n",
    "X4 = Symbol('X4')\n",
    "X5 = Symbol('X5')\n",
    "X6 = Symbol('X6')\n",
    "y = Symbol('y')\n",
    "#X3 = alpha * beta + 3 * alpha * gamma\n",
    "#X4 = -2*alpha**2 + alpha*beta**2 + 6*alpha*beta*gamma + 3*alpha*gamma**2\n",
    "#X5 = alpha * (beta**3 - 8*alpha*beta + 10*beta**2*gamma + 15*gamma**2*beta\n",
    "#- 20*alpha*gamma)\n",
    "#X6 = alpha*(16*alpha**2 - 12*alpha*beta**2 + beta**4 + 45*beta**2*gamma**2 +\n",
    "#15*beta*gamma**3 + 15*gamma*(-4*alpha*beta + beta**3))\n",
    "p5_2 = (6*(2*X3*y**3 + X5*y**2 - 3*X3*X4*y + 2*X3**3)**2 +\n",
    "(2*y**3+3*X4*y - 4*X3**2)**2*(2*y**3 + X4*y - X3**2))**2\n",
    "p6_2 = ((4*X3**2 - 3*X4*y - 2*y**3) *\n",
    "(4*X3**4 - 4*X3**2*X4*y - 8*X3**2*y**3 - X4**2*y**2 +\n",
    "8*X4*y**4 + X6*y**3 + 4*y**6) -\n",
    "(10*X3**3 - 7*X3*X4*y - 2*X3*y**3) *\n",
    "(2*X3**3 - 3*X3*X4*y + 2*X3*y**3 + X5*y**2))**2\n",
    "r = p5_2+p6_2\n",
    "rprime = diff(r, y)\n",
    "#rprimePoly = Poly(rprime, y)\n",
    "#rprimePoly.all_coeffs()\n",
    "#r.expand()\n",
    "r_y18 = r/y**18\n",
    "r_y18.expand()"
   ]
  },
  {
   "cell_type": "code",
   "execution_count": null,
   "metadata": {
    "collapsed": false
   },
   "outputs": [],
   "source": []
  },
  {
   "cell_type": "code",
   "execution_count": null,
   "metadata": {
    "collapsed": true
   },
   "outputs": [],
   "source": []
  }
 ],
 "metadata": {
  "kernelspec": {
   "display_name": "Python 2",
   "language": "python",
   "name": "python2"
  },
  "language_info": {
   "codemirror_mode": {
    "name": "ipython",
    "version": 2
   },
   "file_extension": ".py",
   "mimetype": "text/x-python",
   "name": "python",
   "nbconvert_exporter": "python",
   "pygments_lexer": "ipython2",
   "version": "2.7.12"
  }
 },
 "nbformat": 4,
 "nbformat_minor": 0
}
